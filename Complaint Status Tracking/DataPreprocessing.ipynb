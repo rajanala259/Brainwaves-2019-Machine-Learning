{
 "cells": [
  {
   "cell_type": "markdown",
   "metadata": {},
   "source": [
    "![title](bw.JPG)"
   ]
  },
  {
   "cell_type": "markdown",
   "metadata": {},
   "source": [
    "# Problem Statement\n",
    "\n",
    "Societe Generale (SocGen) is a French multinational banking and financial services company. With over 1,54,000 employees, based in 76 countries, they handle over 32 million clients throughout the world on a daily basis.\n",
    "\n",
    "They provide services like retail banking, corporate and investment banking, asset management, portfolio management, insurance and other financial services.\n",
    "\n",
    "While handling customer complaints, it is hard to track the status of the complaint. To automate this process, SocGen wants you to build a model that can automatically predict the complaint status (how the complaint was resolved) based on the complaint submitted by the consumer and other related meta-data.\n",
    "\n",
    "## Data Description\n",
    "The dataset consists of three files: train.csv, test.csv and sample_submission.csv.\n",
    "\n",
    "|Column|Description|\n",
    "|------|------|\n",
    "|Complaint-ID|Complaint Id|\n",
    "|Date received|Date on which the complaint was received|\n",
    "|Transaction-Type|Type of transaction involved|\n",
    "|Complaint-reason|Reason of the complaint|\n",
    "|Consumer-complaint-summary|Complaint filed by the consumer - Present in three languages :  English, Spanish, French|\n",
    "|Company-response|Public response provided by the company (if any)|\n",
    "|Date-sent-to-company|Date on which the complaint was sent to the respective department|\n",
    "|Complaint-Status|Status of the complaint (Target Variable)|\n",
    "|Consumer-disputes|If the consumer raised any disputes|\n",
    "\n",
    "\n",
    "### Submission Format\n",
    "Please submit the prediction as a .csv file in the format described below and in the sample submission file.\n",
    "\n",
    "|Complaint-ID|Complaint-Status|\n",
    "|------|------|\n",
    "|Te-1|Closed with explanation|\n",
    "|Te-2|Closed with explanation|\n",
    "|Te-3|Closed with explanation|\n",
    "|Te-4|Closed with non-monetary relief|\n",
    "|Te-5|Closed with explanation|\n",
    "\n",
    "### Evaluation\n",
    "**The submissions will be evaluated on the f1 score with ‘weighted’ average.**"
   ]
  },
  {
   "cell_type": "markdown",
   "metadata": {},
   "source": [
    "# Data Preprocessing"
   ]
  },
  {
   "cell_type": "code",
   "execution_count": null,
   "metadata": {
    "_cell_guid": "b1076dfc-b9ad-4769-8c92-a6c4dae69d19",
    "_uuid": "8f2839f25d086af736a60e9eeb907d3b93b6e0e5",
    "collapsed": true
   },
   "outputs": [],
   "source": [
    "# This Python 3 environment comes with many helpful analytics libraries installed\n",
    "# It is defined by the kaggle/python docker image: https://github.com/kaggle/docker-python\n",
    "# For example, here's several helpful packages to load in \n",
    "\n",
    "import numpy as np # linear algebra\n",
    "import pandas as pd # data processing, CSV file I/O (e.g. pd.read_csv)\n",
    "\n",
    "# Input data files are available in the \"../input/\" directory.\n",
    "# For example, running this (by clicking run or pressing Shift+Enter) will list the files in the input directory\n",
    "\n",
    "import os\n",
    "print(os.listdir(\"../input/c3cc8568-0-dataset\"))\n",
    "\n",
    "# Any results you write to the current directory are saved as output."
   ]
  },
  {
   "cell_type": "code",
   "execution_count": null,
   "metadata": {
    "_cell_guid": "79c7e3d0-c299-4dcb-8224-4455121ee9b0",
    "_uuid": "d629ff2d2480ee46fbb7e2d37f6b5fab8052498a",
    "collapsed": true
   },
   "outputs": [],
   "source": [
    "train1=pd.read_csv('../input/c3cc8568-0-dataset/train.csv')\n",
    "test1=pd.read_csv('../input/c3cc8568-0-dataset/test.csv')"
   ]
  },
  {
   "cell_type": "code",
   "execution_count": null,
   "metadata": {
    "_uuid": "2d65a1ca3105a24244b45f20512cd1330a56c218",
    "collapsed": true
   },
   "outputs": [],
   "source": [
    "train1.isnull().sum()"
   ]
  },
  {
   "cell_type": "markdown",
   "metadata": {},
   "source": [
    "## cleaning"
   ]
  },
  {
   "cell_type": "code",
   "execution_count": null,
   "metadata": {
    "_uuid": "739b93a6ae270c9e8dac5064befef6b0ad71b17e",
    "collapsed": true
   },
   "outputs": [],
   "source": [
    "import re\n",
    "import nltk\n",
    "from nltk.corpus import stopwords\n",
    "from nltk.stem.snowball import SnowballStemmer\n",
    "def clean_text(raw_text):\n",
    "    raw_text=raw_text.strip()\n",
    "    try:\n",
    "        no_encoding=raw_text.decode(\"utf-8-sig\").replace(u\"\\ufffd\", \"?\")\n",
    "    except:\n",
    "        no_encoding = raw_text\n",
    "    letters_only = re.sub(\"[^a-zA-Z]\", \" \",no_encoding) \n",
    "    words = letters_only.lower().split()                             \n",
    "    stops = set(stopwords.words(\"english\")+stopwords.words(\"french\")+stopwords.words(\"spanish\"))                  \n",
    "    meaningful_words = [w for w in words if not w in stops]\n",
    "    stemmer = SnowballStemmer(\"english\", ignore_stopwords=True)\n",
    "    meaningful_words1=[stemmer.stem(word) for word in meaningful_words]\n",
    "    return( \" \".join( meaningful_words1 )) "
   ]
  },
  {
   "cell_type": "code",
   "execution_count": null,
   "metadata": {
    "_uuid": "1bec2922deb518a11cb926dc2b083e8ea713ab7d",
    "collapsed": true
   },
   "outputs": [],
   "source": [
    "def dateSim(val):\n",
    "    if val==0:\n",
    "        return 1\n",
    "    else:\n",
    "        return 0\n",
    "\n",
    "train=train1.copy()\n",
    "train['Date-received']=pd.to_datetime(train['Date-received'])\n",
    "train['Date-sent-to-company']=pd.to_datetime(train['Date-sent-to-company'])\n",
    "train['diff'] = train['Date-sent-to-company'] - train['Date-received']\n",
    "train['diff_days']=train['diff']/np.timedelta64(1,'D')\n",
    "train['diff_year']=train['diff']/np.timedelta64(1,'Y')\n",
    "train['diff_m']=train['diff']/np.timedelta64(1,'M')\n",
    "# train['diff_w']=train['diff']/np.timedelta64(1,'W')\n",
    "train['Company-response'].fillna('None',inplace=True)\n",
    "train['Consumer-disputes'].fillna('Other',inplace=True)\n",
    "train['Consumer-complaint-summary']=train['Consumer-complaint-summary'].apply(clean_text)\n",
    "train['Complaint-reason']=train['Complaint-reason'].apply(clean_text)\n",
    "train['isSameDay']=train['diff_days'].apply(dateSim)\n",
    "\n",
    "\n",
    "train['Complaint-reasonLen']=train['Complaint-reason'].apply(len)\n",
    "train['Consumer-complaint-summaryLen']=train['Consumer-complaint-summary'].apply(len)\n",
    "\n",
    "train.drop(['Date-sent-to-company','Date-received','diff'],axis=1,inplace=True)"
   ]
  },
  {
   "cell_type": "code",
   "execution_count": null,
   "metadata": {
    "_uuid": "aef72de507879b894ef5cf0a323e2522566d5c53",
    "collapsed": true
   },
   "outputs": [],
   "source": [
    "train.head()\n",
    "train.to_csv('trainV1.csv',index=False)"
   ]
  },
  {
   "cell_type": "code",
   "execution_count": null,
   "metadata": {
    "_uuid": "b03d20083b81f44ad99159b6f62db1833626f533",
    "collapsed": true
   },
   "outputs": [],
   "source": [
    "import gc\n",
    "gc.collect()"
   ]
  },
  {
   "cell_type": "code",
   "execution_count": null,
   "metadata": {
    "_uuid": "bc750626ad7f83cb7ab79f75651ff79f91996f28",
    "collapsed": true
   },
   "outputs": [],
   "source": [
    "test=test1.copy()\n",
    "test['Date-received']=pd.to_datetime(test['Date-received'])\n",
    "test['Date-sent-to-company']=pd.to_datetime(test['Date-sent-to-company'])\n",
    "test['diff'] = test['Date-sent-to-company'] - test['Date-received']\n",
    "test['diff_days']=test['diff']/np.timedelta64(1,'D')\n",
    "test['diff_year']=test['diff']/np.timedelta64(1,'Y')\n",
    "test['diff_m']=test['diff']/np.timedelta64(1,'M')\n",
    "# test['diff_w']=test['diff']/np.timedelta64(1,'W')\n",
    "test['Company-response'].fillna('None',inplace=True)\n",
    "test['Consumer-disputes'].fillna('Other',inplace=True)\n",
    "test['Consumer-complaint-summary']=test['Consumer-complaint-summary'].apply(clean_text)\n",
    "test['Complaint-reason']=test['Complaint-reason'].apply(clean_text)\n",
    "test['isSameDay']=test['diff_days'].apply(dateSim)\n",
    "\n",
    "test['Complaint-reasonLen']=test['Complaint-reason'].apply(len)\n",
    "test['Consumer-complaint-summaryLen']=test['Consumer-complaint-summary'].apply(len)\n",
    "\n",
    "test.drop(['Date-sent-to-company','Date-received','diff'],axis=1,inplace=True)\n",
    "test.head()"
   ]
  },
  {
   "cell_type": "code",
   "execution_count": null,
   "metadata": {
    "_uuid": "c11d2f12afbc72d15ea23db797ac3b1592ea8bd3",
    "collapsed": true
   },
   "outputs": [],
   "source": [
    "test.to_csv('testV1.csv',index=False)"
   ]
  }
 ],
 "metadata": {
  "kernelspec": {
   "display_name": "Python 3",
   "language": "python",
   "name": "python3"
  },
  "language_info": {
   "codemirror_mode": {
    "name": "ipython",
    "version": 3
   },
   "file_extension": ".py",
   "mimetype": "text/x-python",
   "name": "python",
   "nbconvert_exporter": "python",
   "pygments_lexer": "ipython3",
   "version": "3.6.0"
  }
 },
 "nbformat": 4,
 "nbformat_minor": 1
}
