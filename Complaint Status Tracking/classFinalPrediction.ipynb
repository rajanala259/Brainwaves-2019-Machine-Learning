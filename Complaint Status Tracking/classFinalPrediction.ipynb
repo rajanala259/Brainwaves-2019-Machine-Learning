{
 "cells": [
  {
   "cell_type": "markdown",
   "metadata": {},
   "source": [
    "![title](bw.JPG)"
   ]
  },
  {
   "cell_type": "markdown",
   "metadata": {},
   "source": [
    "# Problem Statement\n",
    "\n",
    "Societe Generale (SocGen) is a French multinational banking and financial services company. With over 1,54,000 employees, based in 76 countries, they handle over 32 million clients throughout the world on a daily basis.\n",
    "\n",
    "They provide services like retail banking, corporate and investment banking, asset management, portfolio management, insurance and other financial services.\n",
    "\n",
    "While handling customer complaints, it is hard to track the status of the complaint. To automate this process, SocGen wants you to build a model that can automatically predict the complaint status (how the complaint was resolved) based on the complaint submitted by the consumer and other related meta-data.\n",
    "\n",
    "## Data Description\n",
    "The dataset consists of three files: train.csv, test.csv and sample_submission.csv.\n",
    "\n",
    "|Column|Description|\n",
    "|------|------|\n",
    "|Complaint-ID|Complaint Id|\n",
    "|Date received|Date on which the complaint was received|\n",
    "|Transaction-Type|Type of transaction involved|\n",
    "|Complaint-reason|Reason of the complaint|\n",
    "|Consumer-complaint-summary|Complaint filed by the consumer - Present in three languages :  English, Spanish, French|\n",
    "|Company-response|Public response provided by the company (if any)|\n",
    "|Date-sent-to-company|Date on which the complaint was sent to the respective department|\n",
    "|Complaint-Status|Status of the complaint (Target Variable)|\n",
    "|Consumer-disputes|If the consumer raised any disputes|\n",
    "\n",
    "\n",
    "### Submission Format\n",
    "Please submit the prediction as a .csv file in the format described below and in the sample submission file.\n",
    "\n",
    "|Complaint-ID|Complaint-Status|\n",
    "|------|------|\n",
    "|Te-1|Closed with explanation|\n",
    "|Te-2|Closed with explanation|\n",
    "|Te-3|Closed with explanation|\n",
    "|Te-4|Closed with non-monetary relief|\n",
    "|Te-5|Closed with explanation|\n",
    "\n",
    "### Evaluation\n",
    "**The submissions will be evaluated on the f1 score with ‘weighted’ average.**"
   ]
  },
  {
   "cell_type": "markdown",
   "metadata": {},
   "source": [
    "# Prediction and Evaluation"
   ]
  },
  {
   "cell_type": "code",
   "execution_count": 4,
   "metadata": {
    "_cell_guid": "b1076dfc-b9ad-4769-8c92-a6c4dae69d19",
    "_uuid": "8f2839f25d086af736a60e9eeb907d3b93b6e0e5"
   },
   "outputs": [],
   "source": [
    "# This Python 3 environment comes with many helpful analytics libraries installed\n",
    "# It is defined by the kaggle/python docker image: https://github.com/kaggle/docker-python\n",
    "# For example, here's several helpful packages to load in \n",
    "\n",
    "import numpy as np # linear algebra\n",
    "import pandas as pd # data processing, CSV file I/O (e.g. pd.read_csv)\n",
    "\n",
    "# Input data files are available in the \"../input/\" directory.\n",
    "# For example, running this (by clicking run or pressing Shift+Enter) will list the files in the input directory\n",
    "\n",
    "import os\n",
    "\n",
    "# print(os.listdir(\"../input/brainwavesml/c3cc8568-0-dataset\"))\n",
    "\n",
    "# Any results you write to the current directory are saved as output."
   ]
  },
  {
   "cell_type": "code",
   "execution_count": 5,
   "metadata": {
    "_uuid": "f05ee4c93e83d3fcea59349e26461edcee8707fb",
    "collapsed": true
   },
   "outputs": [],
   "source": [
    "train1old=pd.read_csv('train.csv')\n",
    "test1old=pd.read_csv('test.csv')"
   ]
  },
  {
   "cell_type": "code",
   "execution_count": null,
   "metadata": {
    "_cell_guid": "79c7e3d0-c299-4dcb-8224-4455121ee9b0",
    "_uuid": "d629ff2d2480ee46fbb7e2d37f6b5fab8052498a",
    "collapsed": true
   },
   "outputs": [],
   "source": [
    "# train1=pd.read_csv('../input/fork-of-brainwaves-best-d-ata/trainV1.csv')\n",
    "# test1=pd.read_csv('../input/fork-of-brainwaves-best-d-ata/testV1.csv')"
   ]
  },
  {
   "cell_type": "code",
   "execution_count": null,
   "metadata": {
    "_uuid": "f4ea202f42354b50bc9c076cf753e931cd778a77",
    "collapsed": true
   },
   "outputs": [],
   "source": [
    "\n",
    "test1old['Date-sent-to-company']=pd.to_datetime(test1old['Date-sent-to-company'])\n",
    "test1['day']=test1old['Date-sent-to-company'].dt.day\n",
    "test1['year']=test1old['Date-sent-to-company'].dt.year\n",
    "test1['month']=test1old['Date-sent-to-company'].dt.month\n",
    "test1.head()"
   ]
  },
  {
   "cell_type": "code",
   "execution_count": null,
   "metadata": {
    "_uuid": "596d9325eb745cc9ab4bbbc739ed0ec798d42a1e",
    "collapsed": true
   },
   "outputs": [],
   "source": [
    "\n",
    "train1old['Date-sent-to-company']=pd.to_datetime(train1old['Date-sent-to-company'])\n",
    "train1['day']=train1old['Date-sent-to-company'].dt.day\n",
    "train1['year']=train1old['Date-sent-to-company'].dt.year\n",
    "train1['month']=train1old['Date-sent-to-company'].dt.month\n",
    "train1.head()"
   ]
  },
  {
   "cell_type": "code",
   "execution_count": null,
   "metadata": {
    "_uuid": "73a54feba5af043f9a0ecb92ed26602e3a9e258a",
    "collapsed": true
   },
   "outputs": [],
   "source": [
    "wt=dict(1-train1['Complaint-Status'].value_counts()/train1.shape[0])\n",
    "wt"
   ]
  },
  {
   "cell_type": "code",
   "execution_count": null,
   "metadata": {
    "_uuid": "335eb38a6c085cdf476816b6e4991e2ec85ee03e",
    "collapsed": true
   },
   "outputs": [],
   "source": []
  },
  {
   "cell_type": "code",
   "execution_count": null,
   "metadata": {
    "_uuid": "2d65a1ca3105a24244b45f20512cd1330a56c218",
    "collapsed": true
   },
   "outputs": [],
   "source": [
    "train1.isnull().sum()"
   ]
  },
  {
   "cell_type": "markdown",
   "metadata": {},
   "source": [
    "** Tried translating the different languages to english but google api seems to have a limit**"
   ]
  },
  {
   "cell_type": "code",
   "execution_count": 9,
   "metadata": {
    "_uuid": "4e0aac8577deef7a1aa358a8bdb03deee3deb0a1",
    "collapsed": true
   },
   "outputs": [],
   "source": [
    "from googletrans import Translator\n",
    "def clean_translate(raw_text):\n",
    "    translator = Translator()\n",
    "#     print(\"original#### \",raw_text[:70])\n",
    "    try:\n",
    "        if translator.detect(raw_text).lang!='en':\n",
    "            trans=translator.translate(raw_text).text\n",
    "        else:\n",
    "            trans=raw_text\n",
    "    except:\n",
    "        trans=raw_text\n",
    "#     print(\"trans#### \",trans[:70])\n",
    "    return trans\n",
    "\n"
   ]
  },
  {
   "cell_type": "code",
   "execution_count": 10,
   "metadata": {},
   "outputs": [],
   "source": [
    "con_com_sum=train1old['Consumer-complaint-summary'].apply(clean_translate)"
   ]
  },
  {
   "cell_type": "code",
   "execution_count": 13,
   "metadata": {},
   "outputs": [
    {
     "data": {
      "text/html": [
       "<div>\n",
       "<style scoped>\n",
       "    .dataframe tbody tr th:only-of-type {\n",
       "        vertical-align: middle;\n",
       "    }\n",
       "\n",
       "    .dataframe tbody tr th {\n",
       "        vertical-align: top;\n",
       "    }\n",
       "\n",
       "    .dataframe thead th {\n",
       "        text-align: right;\n",
       "    }\n",
       "</style>\n",
       "<table border=\"1\" class=\"dataframe\">\n",
       "  <thead>\n",
       "    <tr style=\"text-align: right;\">\n",
       "      <th></th>\n",
       "      <th>Consumer-complaint-summary</th>\n",
       "    </tr>\n",
       "  </thead>\n",
       "  <tbody>\n",
       "    <tr>\n",
       "      <th>0</th>\n",
       "      <td>Seterus, Inc. filed a false report with the ma...</td>\n",
       "    </tr>\n",
       "    <tr>\n",
       "      <th>1</th>\n",
       "      <td>XX / XX / XXXX Bankruptcy Claim XXXX of Chapte...</td>\n",
       "    </tr>\n",
       "    <tr>\n",
       "      <th>2</th>\n",
       "      <td>XXXX / XXXX / 15, I was preparing the flight b...</td>\n",
       "    </tr>\n",
       "    <tr>\n",
       "      <th>3</th>\n",
       "      <td>The loan was paid in XXXX XXXX. In XXXX, 4 yea...</td>\n",
       "    </tr>\n",
       "    <tr>\n",
       "      <th>4</th>\n",
       "      <td>I got a care credit account for XXXX. Immediat...</td>\n",
       "    </tr>\n",
       "  </tbody>\n",
       "</table>\n",
       "</div>"
      ],
      "text/plain": [
       "                          Consumer-complaint-summary\n",
       "0  Seterus, Inc. filed a false report with the ma...\n",
       "1  XX / XX / XXXX Bankruptcy Claim XXXX of Chapte...\n",
       "2  XXXX / XXXX / 15, I was preparing the flight b...\n",
       "3  The loan was paid in XXXX XXXX. In XXXX, 4 yea...\n",
       "4  I got a care credit account for XXXX. Immediat..."
      ]
     },
     "execution_count": 13,
     "metadata": {},
     "output_type": "execute_result"
    }
   ],
   "source": [
    "consumer_compl=pd.DataFrame(data=con_com_sum,index=train1old.index)\n",
    "consumer_compl.head()"
   ]
  },
  {
   "cell_type": "code",
   "execution_count": 14,
   "metadata": {
    "collapsed": true
   },
   "outputs": [],
   "source": [
    "consumer_compl.to_csv('consumer_compl.csv',index=False)"
   ]
  },
  {
   "cell_type": "code",
   "execution_count": 15,
   "metadata": {},
   "outputs": [
    {
     "data": {
      "text/html": [
       "<div>\n",
       "<style scoped>\n",
       "    .dataframe tbody tr th:only-of-type {\n",
       "        vertical-align: middle;\n",
       "    }\n",
       "\n",
       "    .dataframe tbody tr th {\n",
       "        vertical-align: top;\n",
       "    }\n",
       "\n",
       "    .dataframe thead th {\n",
       "        text-align: right;\n",
       "    }\n",
       "</style>\n",
       "<table border=\"1\" class=\"dataframe\">\n",
       "  <thead>\n",
       "    <tr style=\"text-align: right;\">\n",
       "      <th></th>\n",
       "      <th>Consumer-complaint-summary</th>\n",
       "    </tr>\n",
       "  </thead>\n",
       "  <tbody>\n",
       "    <tr>\n",
       "      <th>0</th>\n",
       "      <td>XXXX / XXXX / 16 I called Citibank to open a c...</td>\n",
       "    </tr>\n",
       "    <tr>\n",
       "      <th>1</th>\n",
       "      <td>I'm struggling financially. I called and I off...</td>\n",
       "    </tr>\n",
       "    <tr>\n",
       "      <th>2</th>\n",
       "      <td>In XXXX of 2015, an automatic payment was conf...</td>\n",
       "    </tr>\n",
       "    <tr>\n",
       "      <th>3</th>\n",
       "      <td>I submitted a request to XXXX, which is my cur...</td>\n",
       "    </tr>\n",
       "    <tr>\n",
       "      <th>4</th>\n",
       "      <td>A state tax lien was filed against me XXXX / X...</td>\n",
       "    </tr>\n",
       "  </tbody>\n",
       "</table>\n",
       "</div>"
      ],
      "text/plain": [
       "                          Consumer-complaint-summary\n",
       "0  XXXX / XXXX / 16 I called Citibank to open a c...\n",
       "1  I'm struggling financially. I called and I off...\n",
       "2  In XXXX of 2015, an automatic payment was conf...\n",
       "3  I submitted a request to XXXX, which is my cur...\n",
       "4  A state tax lien was filed against me XXXX / X..."
      ]
     },
     "execution_count": 15,
     "metadata": {},
     "output_type": "execute_result"
    }
   ],
   "source": [
    "con_com_sumtest=test1old['Consumer-complaint-summary'].apply(clean_translate)\n"
   ]
  },
  {
   "cell_type": "code",
   "execution_count": null,
   "metadata": {
    "collapsed": true
   },
   "outputs": [],
   "source": [
    "consumer_compltest=pd.DataFrame(data=con_com_sumtest,index=test1old.index)\n",
    "consumer_compltest.head()"
   ]
  },
  {
   "cell_type": "code",
   "execution_count": null,
   "metadata": {
    "collapsed": true
   },
   "outputs": [],
   "source": [
    "consumer_compltest.to_csv('consumer_compltest.csv',index=False)"
   ]
  },
  {
   "cell_type": "code",
   "execution_count": null,
   "metadata": {
    "_uuid": "8c3d83569624dfbf15395385d330996daae2a049",
    "collapsed": true
   },
   "outputs": [],
   "source": [
    "# import py-translate\n",
    "# translator = Translator()\n",
    "# from nltk.misc import babelfish\n",
    "# smpl=train1['Consumer-complaint-summary'].sample(1,random_state=1994).values\n",
    "# print(smpl)\n",
    "\n",
    "# [w for w in smpl if not w in set(stopwords.words(\"french\")) ]\n",
    "# babelfish.translate(smpl)\n",
    "# print(translator.translate(smpl))\n",
    "# train1['Consumer-complaint-summary'].sample(1,random_state=1994).apply(clean_text)"
   ]
  },
  {
   "cell_type": "code",
   "execution_count": null,
   "metadata": {
    "_uuid": "ff4bd8fef694694b50a242170f4ab595dd337317",
    "collapsed": true
   },
   "outputs": [],
   "source": [
    "train1['Complaint-reason'].fillna('Other',inplace=True)\n",
    "train1['Consumer-complaint-summary'].fillna('Other',inplace=True)"
   ]
  },
  {
   "cell_type": "code",
   "execution_count": null,
   "metadata": {
    "_uuid": "aef72de507879b894ef5cf0a323e2522566d5c53",
    "collapsed": true
   },
   "outputs": [],
   "source": [
    "train=train1.copy()\n"
   ]
  },
  {
   "cell_type": "code",
   "execution_count": null,
   "metadata": {
    "_uuid": "b03d20083b81f44ad99159b6f62db1833626f533",
    "collapsed": true
   },
   "outputs": [],
   "source": [
    "import gc\n",
    "gc.collect()\n",
    "train.head()"
   ]
  },
  {
   "cell_type": "code",
   "execution_count": null,
   "metadata": {
    "_uuid": "3d58d0577f8c54656736bb79adf0a4c68e23d76e",
    "collapsed": true
   },
   "outputs": [],
   "source": [
    "train.describe(include='all').T"
   ]
  },
  {
   "cell_type": "code",
   "execution_count": null,
   "metadata": {
    "_uuid": "c777efbeffe7ab498f9a334ebcd2e419fdc31cb4",
    "collapsed": true
   },
   "outputs": [],
   "source": [
    "import seaborn as sns\n",
    "%matplotlib inline\n",
    "# train['Consumer-complaint-summaryLen'].plot.bar()\n",
    "train.columns\n",
    "# feat=[ 'diff_days', 'diff_year', 'diff_m',\n",
    "#        'isSameDay', 'Complaint-reasonLen', 'Consumer-complaint-summaryLen']"
   ]
  },
  {
   "cell_type": "code",
   "execution_count": null,
   "metadata": {
    "_uuid": "9d6e0fed41833e8ea9d32b8303fe27a7a8bd2804",
    "collapsed": true
   },
   "outputs": [],
   "source": [
    "# train['combine']=train['Complaint-reason']+train['Consumer-complaint-summary']"
   ]
  },
  {
   "cell_type": "code",
   "execution_count": null,
   "metadata": {
    "_uuid": "af9710b8accd2f680dc67fa5015041f348e6cb6c",
    "collapsed": true
   },
   "outputs": [],
   "source": [
    "# from sklearn.feature_extraction.text import CountVectorizer,TfidfVectorizer\n",
    "\n",
    "# # vec_cr = TfidfVectorizer(ngram_range=(1,2),stop_words=\"english\", analyzer='word')\n",
    "# # comp_reason =vec_cr.fit_transform(train['Complaint-reason'])\n",
    "# # vec_cs = TfidfVectorizer(ngram_range=(1,3),stop_words=\"english\", analyzer='word')\n",
    "# # consum_comp_sum =vec_cs.fit_transform(train['Consumer-complaint-summary'])\n",
    "\n",
    "# vec_cs = TfidfVectorizer(ngram_range=(1,3),stop_words=\"english\", analyzer='word')\n",
    "# consum_comp_sumtot =vec_cs.fit_transform(train['combine'])\n",
    "\n",
    "# vec_cs = TfidfVectorizer(ngram_range=(1,10),stop_words=\"english\", analyzer='char')\n",
    "# consum_comp_sumtotchar =vec_cs.fit_transform(train['combine'])\n",
    "\n",
    "# from scipy.sparse import csr_matrix\n",
    "# from scipy import sparse\n",
    "# final_features = sparse.hstack((consum_comp_sumtot,consum_comp_sumtotchar)).tocsr()\n",
    "\n",
    "# print(1)\n",
    "# from sklearn.model_selection import train_test_split\n",
    "# from sklearn.metrics import accuracy_score,f1_score\n",
    "# X=final_features\n",
    "# y=train['Complaint-Status']\n",
    "# X_train,X_val,y_train,y_val = train_test_split(X,y,test_size=0.3,random_state = 1994)\n",
    "# print(1)\n",
    "# from sklearn.naive_bayes import MultinomialNB\n",
    "# from sklearn.linear_model import LogisticRegression\n",
    "# from sklearn.ensemble import RandomForestClassifier\n",
    "# from catboost import CatBoostClassifier\n",
    "# from xgboost import XGBClassifier\n",
    "\n",
    "\n",
    "    \n",
    "    \n",
    "# lr=LogisticRegression(verbose=10,class_weight='balanced',C=5,random_state=1994,n_jobs=-1)\n",
    "# lr.fit(X_train,y_train)\n",
    "# print(1)\n",
    "# lrpred=lr.predict(X_val)\n",
    "# print(f1_score(y_val,lrpred,average='weighted'))\n",
    "\n"
   ]
  },
  {
   "cell_type": "code",
   "execution_count": null,
   "metadata": {
    "_uuid": "f26e6cdf8a83804bf6a5741da7079cf9ac86133f",
    "collapsed": true
   },
   "outputs": [],
   "source": [
    "# def baseline(model,xtrain,ytrain,xval,yval):\n",
    "#     model.fit(xtrain,ytrain)\n",
    "#     print('fitted')\n",
    "#     print(f1_score(yval,model.predict(xval),average='weighted'))\n",
    "\n",
    "# rf=RandomForestClassifier()  #0.7037876668241548\n",
    "# xgb=XGBClassifier()\n",
    "# baseline(xgb,X_train.tocsc(),y_train,X_val.tocsc(),y_val)"
   ]
  },
  {
   "cell_type": "code",
   "execution_count": null,
   "metadata": {
    "_uuid": "df2c6ad1b91329ca6d3660dcf7ac1c2b5b4f7421",
    "collapsed": true
   },
   "outputs": [],
   "source": [
    "train=pd.get_dummies(train,columns=['Transaction-Type','Company-response','Consumer-disputes'],drop_first=True)\n",
    "from sklearn.feature_extraction.text import CountVectorizer,TfidfVectorizer\n",
    "vec_cr = TfidfVectorizer(ngram_range=(1,2),stop_words=\"english\", analyzer='word')\n",
    "comp_reason =vec_cr.fit_transform(train['Complaint-reason'])\n",
    "\n",
    "vec_cr_char = TfidfVectorizer(ngram_range=(1,8),stop_words=\"english\", analyzer='char')\n",
    "comp_reasonChar =vec_cr_char.fit_transform(train['Complaint-reason'])\n",
    "\n",
    "# vec_cr_charwb = TfidfVectorizer(ngram_range=(1,8),stop_words=\"english\", analyzer='char_wb')\n",
    "# comp_reasonCharwb =vec_cr_charwb.fit_transform(train['Complaint-reason'])\n",
    "\n",
    "vec_cs = TfidfVectorizer(ngram_range=(1,3),stop_words=\"english\", analyzer='word')\n",
    "consum_comp_sum =vec_cs.fit_transform(train['Consumer-complaint-summary'])\n",
    "\n",
    "vec_csChar = TfidfVectorizer(ngram_range=(1,9),stop_words=\"english\", analyzer='char')\n",
    "consum_comp_sumChar =vec_csChar.fit_transform(train['Consumer-complaint-summary'])\n",
    "\n",
    "# vec_csCharwb = TfidfVectorizer(ngram_range=(1,9),stop_words=\"english\", analyzer='char_wb')\n",
    "# consum_comp_sumCharwb =vec_csCharwb.fit_transform(train['Consumer-complaint-summary'])"
   ]
  },
  {
   "cell_type": "code",
   "execution_count": null,
   "metadata": {
    "_uuid": "a682c2fbb7c735e47a42cb8304dab52e27bbbb61",
    "collapsed": true
   },
   "outputs": [],
   "source": [
    "feats=[ 'diff_days', 'diff_year', 'diff_m','Complaint-reasonLen','Consumer-complaint-summaryLen','day','year','month',\n",
    "       'Transaction-Type_Checking or savings account',\n",
    "       'Transaction-Type_Consumer Loan', 'Transaction-Type_Credit card',\n",
    "       'Transaction-Type_Credit card or prepaid card',\n",
    "       'Transaction-Type_Credit reporting',\n",
    "       'Transaction-Type_Credit reporting, credit repair services, or other personal consumer reports',\n",
    "       'Transaction-Type_Debt collection',\n",
    "       'Transaction-Type_Money transfer, virtual currency, or money service',\n",
    "       'Transaction-Type_Money transfers', 'Transaction-Type_Mortgage',\n",
    "       'Transaction-Type_Other financial service',\n",
    "       'Transaction-Type_Payday loan',\n",
    "       'Transaction-Type_Payday loan, title loan, or personal loan',\n",
    "       'Transaction-Type_Prepaid card', 'Transaction-Type_Student loan',\n",
    "       'Transaction-Type_Vehicle loan or lease',\n",
    "       'Transaction-Type_Virtual currency',\n",
    "       'Company-response_Company believes complaint is the result of an isolated error',\n",
    "       'Company-response_Company believes complaint relates to a discontinued policy or procedure',\n",
    "       'Company-response_Company believes complaint represents an opportunity for improvement to better serve consumers',\n",
    "       'Company-response_Company believes it acted appropriately as authorized by contract or law',\n",
    "       'Company-response_Company believes the complaint is the result of a misunderstanding',\n",
    "       \"Company-response_Company can't verify or dispute the facts in the complaint\",\n",
    "       'Company-response_Company chooses not to provide a public response',\n",
    "       'Company-response_Company disputes the facts presented in the complaint',\n",
    "       'Company-response_Company has responded to the consumer and the CFPB and chooses not to provide a public response',\n",
    "       'Company-response_None', 'Consumer-disputes_Other',\n",
    "       'Consumer-disputes_Yes','isSameDay']"
   ]
  },
  {
   "cell_type": "code",
   "execution_count": null,
   "metadata": {
    "_uuid": "de2c76ca361e7fa42350fa8e188bde960b78ea05",
    "collapsed": true
   },
   "outputs": [],
   "source": [
    "from scipy.sparse import csr_matrix\n",
    "from scipy import sparse\n",
    "final_features = sparse.hstack((train[feats], comp_reason, consum_comp_sum,comp_reasonChar,consum_comp_sumChar)).tocsr()"
   ]
  },
  {
   "cell_type": "code",
   "execution_count": null,
   "metadata": {
    "_uuid": "1944e3bf383765553a43d8915b29e1464ab28eec",
    "collapsed": true
   },
   "outputs": [],
   "source": [
    "final_features"
   ]
  },
  {
   "cell_type": "code",
   "execution_count": null,
   "metadata": {
    "_uuid": "a74590ec9ff26153041ec56405cbffab29277014",
    "collapsed": true
   },
   "outputs": [],
   "source": [
    "from sklearn.model_selection import train_test_split\n",
    "from sklearn.metrics import accuracy_score,f1_score\n",
    "X=final_features\n",
    "y=train['Complaint-Status']\n",
    "# X_train,X_val,y_train,y_val = train_test_split(X,y,test_size=0.3,random_state = 1994)"
   ]
  },
  {
   "cell_type": "code",
   "execution_count": null,
   "metadata": {
    "_uuid": "58a21c95c79abfe8165d30fc78a2d2ff917b1e4f",
    "collapsed": true
   },
   "outputs": [],
   "source": [
    "from sklearn.naive_bayes import MultinomialNB\n",
    "from sklearn.linear_model import LogisticRegression\n",
    "from sklearn.ensemble import RandomForestClassifier\n",
    "from catboost import CatBoostClassifier\n",
    "from xgboost import XGBClassifier\n",
    "# lr=LogisticRegression(verbose=10,class_weight='balanced',C=5,random_state=1994,n_jobs=-1)\n",
    "# lr.fit(X_train,y_train)\n",
    "# lrpred=lr.predict(X_val)\n",
    "# print(f1_score(y_val,lrpred,average='weighted'))\n",
    "import gc\n",
    "gc.collect()"
   ]
  },
  {
   "cell_type": "code",
   "execution_count": null,
   "metadata": {
    "_uuid": "c02821e5471018e23112d8f68484fbfc73643b13",
    "collapsed": true
   },
   "outputs": [],
   "source": [
    "# import xgboost as xgb\n",
    "# clf = xgb.XGBClassifier(\n",
    "# #                 max_depth = 5,\n",
    "#                 n_estimators=1000,\n",
    "# #                 learning_rate=0.1, \n",
    "# #                 nthread=4,\n",
    "# #                 subsample=1.0,\n",
    "# #                 colsample_bytree=0.5,\n",
    "# #                 min_child_weight = 3,\n",
    "# #                 scale_pos_weight = ratio,\n",
    "# #                 reg_alpha=0.03,\n",
    "#                 seed=1994,verbose_eval=100)\n",
    "                \n",
    "# clf.fit(X_train, y_train, early_stopping_rounds=50, eval_metric=\"mlogloss\",\n",
    "#         eval_set=[(X_train, y_train), (X_val, y_val)])\n",
    "        \n",
    "# p=clf.predict(X_val, ntree_limit=clf.best_iteration)\n",
    "# print(f1_score(y_val,p,average='weighted'))"
   ]
  },
  {
   "cell_type": "code",
   "execution_count": null,
   "metadata": {
    "_uuid": "ee566450be39b177e0dfd316e47bd70a62498424",
    "collapsed": true
   },
   "outputs": [],
   "source": [
    "from sklearn.naive_bayes import MultinomialNB\n",
    "from sklearn.linear_model import LogisticRegression\n",
    "from sklearn.ensemble import RandomForestClassifier\n",
    "from catboost import CatBoostClassifier\n",
    "from xgboost import XGBClassifier\n",
    "# lr=LogisticRegression(verbose=10,class_weight='balanced',C=5,random_state=1994,n_jobs=-1,intercept_scaling=2)\n",
    "# lr.fit(X_train,y_train)\n",
    "# lrpred=lr.predict(X_val)\n",
    "# print(f1_score(y_val,lrpred,average='weighted'))\n"
   ]
  },
  {
   "cell_type": "markdown",
   "metadata": {},
   "source": [
    "## Predicting"
   ]
  },
  {
   "cell_type": "code",
   "execution_count": null,
   "metadata": {
    "_uuid": "befa1ce8085b677fba15b7d846a6c5d6d3af15d0",
    "collapsed": true
   },
   "outputs": [],
   "source": [
    "# xgb=XGBClassifier()\n",
    "# xgb.fit(xtn,y_train)\n",
    "# cbpred=xgb.predict(xts)\n",
    "# print(f1_score(y_val,cbpred,average='weighted'))\n",
    "\n",
    "# from sklearn.neural_network import MLPClassifier\n",
    "# clf = MLPClassifier(verbose=10)\n",
    "# clf.fit(X_train, y_train)\n",
    "# y_pred = clf.predict(X_val)\n",
    "# print(f1_score(y_val,y_pred,average='weighted'))\n",
    "test1['Complaint-reason'].fillna('Other',inplace=True)\n",
    "# test1['Consumer-complaint-summary'].fillna('Other',inplace=True)"
   ]
  },
  {
   "cell_type": "code",
   "execution_count": null,
   "metadata": {
    "_uuid": "bc750626ad7f83cb7ab79f75651ff79f91996f28",
    "collapsed": true
   },
   "outputs": [],
   "source": [
    "# test=test1.copy()\n",
    "# test['Date-received']=pd.to_datetime(test['Date-received'])\n",
    "# test['Date-sent-to-company']=pd.to_datetime(test['Date-sent-to-company'])\n",
    "# test['diff'] = test['Date-sent-to-company'] - test['Date-received']\n",
    "# test['diff_days']=test['diff']/np.timedelta64(1,'D')\n",
    "# test['diff_year']=test['diff']/np.timedelta64(1,'Y')\n",
    "# test['diff_m']=test['diff']/np.timedelta64(1,'M')\n",
    "# # test['diff_w']=test['diff']/np.timedelta64(1,'W')\n",
    "# test['Company-response'].fillna('None',inplace=True)\n",
    "# test['Consumer-disputes'].fillna('Other',inplace=True)\n",
    "# test['Consumer-complaint-summary']=test['Consumer-complaint-summary'].apply(clean_text)\n",
    "# test['Complaint-reason']=test['Complaint-reason'].apply(clean_text)\n",
    "# test['isSameDay']=test['diff_days'].apply(dateSim)\n",
    "\n",
    "# test['Complaint-reasonLen']=test['Complaint-reason'].apply(len)\n",
    "# test['Consumer-complaint-summaryLen']=test['Consumer-complaint-summary'].apply(len)\n",
    "\n",
    "# test.drop(['Date-sent-to-company','Date-received','diff'],axis=1,inplace=True)\n",
    "# test.head()\n",
    "test=test1.copy()"
   ]
  },
  {
   "cell_type": "code",
   "execution_count": null,
   "metadata": {
    "_uuid": "bbefd0237d58ff7be1a6c857e23516117360e32a",
    "collapsed": true
   },
   "outputs": [],
   "source": [
    "test=pd.get_dummies(test,columns=['Transaction-Type','Company-response','Consumer-disputes'],drop_first=True)\n",
    "comp_reason_test =vec_cr.transform(test['Complaint-reason'])\n",
    "consum_comp_sum_test =vec_cs.transform(test['Consumer-complaint-summary'])\n",
    "\n",
    "\n",
    "comp_reason_testchar =vec_cr_char.transform(test['Complaint-reason'])\n",
    "consum_comp_sum_testchar =vec_csChar.transform(test['Consumer-complaint-summary'])\n",
    "\n",
    "# comp_reason_testcharwb =vec_cr_charwb.transform(test['Complaint-reason'])\n",
    "# consum_comp_sum_testcharwb =vec_csCharwb.transform(test['Consumer-complaint-summary'])"
   ]
  },
  {
   "cell_type": "code",
   "execution_count": null,
   "metadata": {
    "_uuid": "6d66d4fa7d277a2bedeb7be12915bf922f8c526d",
    "collapsed": true
   },
   "outputs": [],
   "source": [
    "final_features_test = sparse.hstack((test[feats], comp_reason_test, consum_comp_sum_test,comp_reason_testchar,consum_comp_sum_testchar)).tocsr()\n",
    "final_features_test"
   ]
  },
  {
   "cell_type": "code",
   "execution_count": null,
   "metadata": {
    "_uuid": "da4f2f2f4b2718731619741984a68bd07b9e455d",
    "collapsed": true
   },
   "outputs": [],
   "source": [
    "lr=LogisticRegression(verbose=1,class_weight='balanced',C=5,random_state=1994,n_jobs=-1)\n",
    "lr.fit(final_features,train['Complaint-Status'].values)\n",
    "lrpred=lr.predict(final_features_test)"
   ]
  },
  {
   "cell_type": "code",
   "execution_count": null,
   "metadata": {
    "_uuid": "666e7bfe6ec75579fba5a6b4c1a73920a4d043fe",
    "collapsed": true
   },
   "outputs": [],
   "source": [
    "# preds=[]\n",
    "# from sklearn.model_selection import StratifiedKFold\n",
    "# kf = StratifiedKFold(n_splits=3,random_state=1994,shuffle=True)\n",
    "# for train_index,test_index in kf.split(X,y):\n",
    "# #     print('\\n{} of kfold {}'.format(i,kf.n_splits))\n",
    "#     Xtrain,Xtest = X[train_index],X[test_index]\n",
    "#     ytrain,ytest = y[train_index],y[test_index]\n",
    "# #     print(Xtrain.shape,Xtest.shape)\n",
    "# #     print(ytrain.shape,ytest.shape)\n",
    "#     lr=LogisticRegression(verbose=1,class_weight='balanced',C=5,random_state=1994,n_jobs=-1)\n",
    "#     lr.fit(Xtrain,ytrain)\n",
    "#     lrpred=lr.predict(final_features_test)\n",
    "#     preds.append(lrpred)"
   ]
  },
  {
   "cell_type": "code",
   "execution_count": null,
   "metadata": {
    "_uuid": "a844955611c17052779c1466425ef477109106dd",
    "collapsed": true
   },
   "outputs": [],
   "source": [
    "# for i in range(len(preds)):\n",
    "#     s=pd.DataFrame({'Complaint-ID':test['Complaint-ID'],'Complaint-Status':preds[i]})\n",
    "#     s.to_csv('lrsKfolds'+str(i)+'.csv',index=False)"
   ]
  },
  {
   "cell_type": "code",
   "execution_count": null,
   "metadata": {
    "_uuid": "81cb7fbf87cfaece96928efb3a6d6dbdd737ce4f",
    "collapsed": true
   },
   "outputs": [],
   "source": [
    "s=pd.DataFrame({'Complaint-ID':test['Complaint-ID'],'Complaint-Status':lrpred})\n",
    "s.head()"
   ]
  },
  {
   "cell_type": "code",
   "execution_count": null,
   "metadata": {
    "_uuid": "ed8054e73fd1bbb5a028e437a36bfe43ddc414bb",
    "collapsed": true
   },
   "outputs": [],
   "source": [
    "s.to_csv('lrs13.csv',index=False)"
   ]
  },
  {
   "cell_type": "code",
   "execution_count": null,
   "metadata": {
    "_uuid": "3a52ef0000d6fad88aa59bdc2bffba985595e5c0",
    "collapsed": true
   },
   "outputs": [],
   "source": [
    "# s['Complaint-Status']=mbpred\n",
    "# s.to_csv('mbs1.csv',index=False)"
   ]
  }
 ],
 "metadata": {
  "kernelspec": {
   "display_name": "Python 3",
   "language": "python",
   "name": "python3"
  },
  "language_info": {
   "codemirror_mode": {
    "name": "ipython",
    "version": 3
   },
   "file_extension": ".py",
   "mimetype": "text/x-python",
   "name": "python",
   "nbconvert_exporter": "python",
   "pygments_lexer": "ipython3",
   "version": "3.6.0"
  }
 },
 "nbformat": 4,
 "nbformat_minor": 1
}
