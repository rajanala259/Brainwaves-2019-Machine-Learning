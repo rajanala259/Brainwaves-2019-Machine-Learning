{
 "cells": [
  {
   "cell_type": "markdown",
   "metadata": {},
   "source": [
    "![title](bw.JPG)"
   ]
  },
  {
   "cell_type": "markdown",
   "metadata": {},
   "source": [
    "# Problem Statement\n",
    "\n",
    "** A financial institution news agency has collected 3000 news articles that relates to several matters of financial importance. Before analyzing these unlabeled news, it is only fair to try to partition them into some sort of logical groupings based on their similarities.**\n",
    "\n",
    "**Your task is to use appropriate unsupervised machine learning algorithm to form the news clusters based on their similarity. Prior to clustering it is recommended to perform basic natural language processing steps such as stemming, tokenization and word vectorization for best results.  **\n",
    "\n",
    "Notes to keep in mind:\n",
    "\n",
    "There are no duplicate rows in the dataset.\n",
    "\n",
    "Cluster number should start from 0.\n",
    "\n",
    "### Data Description\n",
    "There is only one file news.csv that contains date, headlines and text of the news.\n",
    "\n",
    "|Column|Description|\n",
    "|------|------|\n",
    "|id|The unique id of the news|\n",
    "|headline|The headline of the news in text|\n",
    "|text|The body of the news in text|\n",
    "\n",
    "\n",
    "### Submission\n",
    "The submission file should be a zip containing a .txt and .csv file. Both should have 3000 rows.\n",
    "\n",
    ".txt file should contain the matrix / ndarrays you are using to create clusters.\n",
    ".csv should contain the cluster of customers against every store.\n",
    "Format of the csv file:\n",
    "\n",
    "|id|cluster|\n",
    "|------|------|\n",
    "|uid-1|0|\n",
    "|uid-2|0|\n",
    "|uid-3|1|\n",
    "|uid-4|1|\n",
    "|uid-5|4|\n",
    "\n",
    "### Evaluation Metric\n",
    "The submissions will be evaluated on silhouette score. Please read more about the metrics here."
   ]
  },
  {
   "cell_type": "code",
   "execution_count": 4,
   "metadata": {
    "_cell_guid": "b1076dfc-b9ad-4769-8c92-a6c4dae69d19",
    "_uuid": "8f2839f25d086af736a60e9eeb907d3b93b6e0e5"
   },
   "outputs": [],
   "source": [
    "# This Python 3 environment comes with many helpful analytics libraries installed\n",
    "# It is defined by the kaggle/python docker image: https://github.com/kaggle/docker-python\n",
    "# For example, here's several helpful packages to load in \n",
    "\n",
    "import numpy as np # linear algebra\n",
    "import pandas as pd # data processing, CSV file I/O (e.g. pd.read_csv)\n",
    "\n",
    "# Input data files are available in the \"../input/\" directory.\n",
    "# For example, running this (by clicking run or pressing Shift+Enter) will list the files in the input directory\n",
    "import matplotlib.pyplot as plt\n",
    "%matplotlib inline\n",
    "import os\n",
    "# print(os.listdir(\"../input\"))\n",
    "\n",
    "# Any results you write to the current directory are saved as output."
   ]
  },
  {
   "cell_type": "code",
   "execution_count": 5,
   "metadata": {
    "_cell_guid": "79c7e3d0-c299-4dcb-8224-4455121ee9b0",
    "_uuid": "d629ff2d2480ee46fbb7e2d37f6b5fab8052498a"
   },
   "outputs": [
    {
     "data": {
      "text/html": [
       "<div>\n",
       "<style scoped>\n",
       "    .dataframe tbody tr th:only-of-type {\n",
       "        vertical-align: middle;\n",
       "    }\n",
       "\n",
       "    .dataframe tbody tr th {\n",
       "        vertical-align: top;\n",
       "    }\n",
       "\n",
       "    .dataframe thead th {\n",
       "        text-align: right;\n",
       "    }\n",
       "</style>\n",
       "<table border=\"1\" class=\"dataframe\">\n",
       "  <thead>\n",
       "    <tr style=\"text-align: right;\">\n",
       "      <th></th>\n",
       "      <th>id</th>\n",
       "      <th>headline</th>\n",
       "      <th>text</th>\n",
       "    </tr>\n",
       "  </thead>\n",
       "  <tbody>\n",
       "    <tr>\n",
       "      <th>0</th>\n",
       "      <td>uid-1</td>\n",
       "      <td>Market Advances 5.12 More</td>\n",
       "      <td>NEW YORK (AP) - A prime rate reduction by New ...</td>\n",
       "    </tr>\n",
       "    <tr>\n",
       "      <th>1</th>\n",
       "      <td>uid-2</td>\n",
       "      <td>District Boosts Request For Anti-Terrorism Aid...</td>\n",
       "      <td>Mayor Anthony A. Williams petitioned the White...</td>\n",
       "    </tr>\n",
       "    <tr>\n",
       "      <th>2</th>\n",
       "      <td>uid-3</td>\n",
       "      <td>Election? Here's How You Do It, Mate.</td>\n",
       "      <td>From our downunder perspective here in Austral...</td>\n",
       "    </tr>\n",
       "    <tr>\n",
       "      <th>3</th>\n",
       "      <td>uid-4</td>\n",
       "      <td>The Biggest Boom Ever</td>\n",
       "      <td>We are about to rewrite history. Unless a rece...</td>\n",
       "    </tr>\n",
       "    <tr>\n",
       "      <th>4</th>\n",
       "      <td>uid-5</td>\n",
       "      <td>Economic Aide Sees Uptrend</td>\n",
       "      <td>Sedate and scholarly Dr. Arthur Burns, the ex-...</td>\n",
       "    </tr>\n",
       "  </tbody>\n",
       "</table>\n",
       "</div>"
      ],
      "text/plain": [
       "      id                                           headline  \\\n",
       "0  uid-1                          Market Advances 5.12 More   \n",
       "1  uid-2  District Boosts Request For Anti-Terrorism Aid...   \n",
       "2  uid-3              Election? Here's How You Do It, Mate.   \n",
       "3  uid-4                              The Biggest Boom Ever   \n",
       "4  uid-5                         Economic Aide Sees Uptrend   \n",
       "\n",
       "                                                text  \n",
       "0  NEW YORK (AP) - A prime rate reduction by New ...  \n",
       "1  Mayor Anthony A. Williams petitioned the White...  \n",
       "2  From our downunder perspective here in Austral...  \n",
       "3  We are about to rewrite history. Unless a rece...  \n",
       "4  Sedate and scholarly Dr. Arthur Burns, the ex-...  "
      ]
     },
     "execution_count": 5,
     "metadata": {},
     "output_type": "execute_result"
    }
   ],
   "source": [
    "data1=pd.read_csv('news.csv')\n",
    "data1.head()"
   ]
  },
  {
   "cell_type": "markdown",
   "metadata": {},
   "source": [
    "## Data Cleaning"
   ]
  },
  {
   "cell_type": "code",
   "execution_count": 6,
   "metadata": {
    "_uuid": "acc060da8f5b9d6f607f91a2d4db7e48c2df8154",
    "collapsed": true
   },
   "outputs": [],
   "source": [
    "import re\n",
    "import nltk\n",
    "from bs4 import BeautifulSoup\n",
    "from nltk.corpus import stopwords\n",
    "from nltk.stem.snowball import SnowballStemmer\n",
    "def url_to_words(raw_text):\n",
    "    raw_text=BeautifulSoup(raw_text).text\n",
    "    raw_text=raw_text.strip()\n",
    "    \n",
    "    no_coms=re.sub(r'\\.com','',raw_text)\n",
    "    no_urls=re.sub('https?://www','',no_coms)\n",
    "    no_urls1=re.sub('https?://','',no_urls)\n",
    "    try:\n",
    "        no_encoding=no_urls1.decode(\"utf-8-sig\").replace(u\"\\ufffd\", \"?\")\n",
    "    except:\n",
    "        no_encoding = no_urls1\n",
    "    letters_only = re.sub(\"[^a-zA-Z]\", \" \",no_encoding) \n",
    "    words = letters_only.lower().split()                             \n",
    "    stops = set(stopwords.words(\"english\"))                  \n",
    "    meaningful_words = [w for w in words if not w in stops] \n",
    "    stemmer = SnowballStemmer(\"english\", ignore_stopwords=True)\n",
    "    meaningful_words1=[stemmer.stem(word) for word in meaningful_words]\n",
    "#     meaningful_words1=[w for w in meaningful_words if w in tot_tagss]\n",
    "    return( \" \".join( meaningful_words1 )) "
   ]
  },
  {
   "cell_type": "code",
   "execution_count": 7,
   "metadata": {
    "_uuid": "c6d9c0aa12ae030c611587cef70eb342cc55a057"
   },
   "outputs": [
    {
     "name": "stderr",
     "output_type": "stream",
     "text": [
      "C:\\Users\\Acer\\Anaconda3\\lib\\site-packages\\bs4\\__init__.py:181: UserWarning: No parser was explicitly specified, so I'm using the best available HTML parser for this system (\"lxml\"). This usually isn't a problem, but if you run this code on another system, or in a different virtual environment, it may use a different parser and behave differently.\n",
      "\n",
      "The code that caused this warning is on line 193 of the file C:\\Users\\Acer\\Anaconda3\\lib\\runpy.py. To get rid of this warning, change code that looks like this:\n",
      "\n",
      " BeautifulSoup([your markup])\n",
      "\n",
      "to this:\n",
      "\n",
      " BeautifulSoup([your markup], \"lxml\")\n",
      "\n",
      "  markup_type=markup_type))\n"
     ]
    }
   ],
   "source": [
    "data=data1.copy()\n",
    "data['headline']=data['headline'].apply(url_to_words)\n",
    "data['text']=data['text'].apply(url_to_words)"
   ]
  },
  {
   "cell_type": "code",
   "execution_count": 8,
   "metadata": {
    "_uuid": "912be42cb3b2d095b8815e35a707f11f2d8aae6b",
    "collapsed": true
   },
   "outputs": [],
   "source": [
    "data['total']=data['headline']+data['text']"
   ]
  },
  {
   "cell_type": "markdown",
   "metadata": {},
   "source": [
    "###  Tf-id vectors"
   ]
  },
  {
   "cell_type": "code",
   "execution_count": 9,
   "metadata": {
    "_uuid": "c2b0695df925449456c66b3ad02c82b3fa8ddfb5",
    "collapsed": true
   },
   "outputs": [],
   "source": [
    "from sklearn.feature_extraction.text import CountVectorizer,TfidfVectorizer\n",
    "vec_head = TfidfVectorizer(ngram_range=(1,100),stop_words=\"english\", analyzer='word')\n",
    "headline =vec_head.fit_transform(data1['headline'])\n",
    "\n",
    "# cvec_head = CountVectorizer(ngram_range=(1,10),stop_words=\"english\", analyzer='word',max_df=0.95)\n",
    "# headline2 =cvec_head.fit_transform(data['headline'])@\n",
    "\n",
    "# vec_head1 = TfidfVectorizer(ngram_range=(1,7),stop_words=\"english\", analyzer='word',max_df=0.95)\n",
    "# headline1 =vec_head1.fit_transform(data['headline'])\n",
    "\n",
    "vec_headchar = TfidfVectorizer(ngram_range=(1,100),stop_words=\"english\", analyzer='char')\n",
    "headlineChar =vec_headchar.fit_transform(data1['headline'])\n",
    "\n",
    "# vec_text = TfidfVectorizer(ngram_range=(1,4),stop_words=\"english\", analyzer='word')\n",
    "# text =vec_text.fit_transform(data['text'])\n",
    "\n",
    "# vec_textCHar = TfidfVectorizer(ngram_range=(1,6),stop_words=\"english\", analyzer='char')\n",
    "# textChar =vec_textCHar.fit_transform(data['text'])\n",
    "\n",
    "# vec_total = TfidfVectorizer(ngram_range=(1,3),stop_words=\"english\", analyzer='word')\n",
    "# total =vec_total.fit_transform(data['total'])\n",
    "\n",
    "# vec_totalchar = TfidfVectorizer(ngram_range=(1,6),stop_words=\"english\", analyzer='char')\n",
    "# totalchar =vec_totalchar.fit_transform(data['total'])"
   ]
  },
  {
   "cell_type": "code",
   "execution_count": 10,
   "metadata": {
    "_uuid": "71f4eecf409a77e80ad9495dfb37225339f39fc3"
   },
   "outputs": [
    {
     "data": {
      "text/plain": [
       "<3000x5867872 sparse matrix of type '<class 'numpy.float64'>'\n",
       "\twith 6845383 stored elements in Compressed Sparse Row format>"
      ]
     },
     "execution_count": 10,
     "metadata": {},
     "output_type": "execute_result"
    }
   ],
   "source": [
    "from scipy.sparse import csr_matrix\n",
    "from scipy import sparse\n",
    "#best was headline, text and headline char with 2-2\n",
    "feat = sparse.hstack((headlineChar,headline)).tocsr()\n",
    "feat"
   ]
  },
  {
   "cell_type": "markdown",
   "metadata": {},
   "source": [
    "### Decomposition"
   ]
  },
  {
   "cell_type": "code",
   "execution_count": 11,
   "metadata": {
    "_uuid": "e2d3931d64425fb0880928e0c51ac23c4db340b6",
    "collapsed": true
   },
   "outputs": [],
   "source": [
    "from sklearn.decomposition import PCA,TruncatedSVD,FastICA,SparsePCA\n",
    "pca=TruncatedSVD(n_components=2,n_iter=10,random_state=1994)\n",
    "pca_feat=pca.fit_transform(headline)"
   ]
  },
  {
   "cell_type": "code",
   "execution_count": 12,
   "metadata": {},
   "outputs": [
    {
     "data": {
      "image/png": "[encoded data removed]",
      "text/plain": [
       "<Figure size 432x288 with 1 Axes>"
      ]
     },
     "metadata": {},
     "output_type": "display_data"
    }
   ],
   "source": [
    "from sklearn.cluster import KMeans\n",
    "wcss = []\n",
    "for i in range(1,11):\n",
    "    kmeans = KMeans(n_clusters=i,init='k-means++',max_iter=300,n_init=10,random_state=1994)\n",
    "    kmeans.fit(pca_feat)\n",
    "    wcss.append(kmeans.inertia_)\n",
    "plt.plot(range(1,11),wcss)\n",
    "plt.title('The Elbow Method')\n",
    "plt.xlabel('Number of clusters')\n",
    "plt.ylabel('WCSS')\n",
    "# plt.savefig('elbow.png')\n",
    "plt.show()"
   ]
  },
  {
   "cell_type": "markdown",
   "metadata": {},
   "source": [
    "* **Taking best number of clusters from elbow method**\n",
    "* **Only headline seems to confine with the best number of vectors possible**"
   ]
  },
  {
   "cell_type": "code",
   "execution_count": 13,
   "metadata": {
    "_uuid": "626dc85bf140cbd7f0cab6d63f23d519136044ed",
    "collapsed": true,
    "scrolled": true
   },
   "outputs": [],
   "source": [
    "from sklearn.cluster import KMeans,AgglomerativeClustering\n",
    "km=KMeans(n_clusters=3,random_state=1994)\n",
    "p=km.fit_predict(pca_feat)\n",
    "\n",
    "# ag=AgglomerativeClustering(n_clusters=4)\n",
    "# p=ag.fit_predict(pca_feat)"
   ]
  },
  {
   "cell_type": "markdown",
   "metadata": {},
   "source": [
    "### Evaluation"
   ]
  },
  {
   "cell_type": "code",
   "execution_count": 14,
   "metadata": {
    "_uuid": "794792f3af2e2229078cd8b50831ee5b4fac8768"
   },
   "outputs": [
    {
     "data": {
      "text/plain": [
       "0.9965101160347276"
      ]
     },
     "execution_count": 14,
     "metadata": {},
     "output_type": "execute_result"
    }
   ],
   "source": [
    "from sklearn.metrics import silhouette_score\n",
    "silhouette_score(pca_feat,p)"
   ]
  },
  {
   "cell_type": "code",
   "execution_count": 15,
   "metadata": {
    "_uuid": "5b4d01bf61df44a342f37a01344b284fbbe50107"
   },
   "outputs": [
    {
     "data": {
      "text/html": [
       "<div>\n",
       "<style scoped>\n",
       "    .dataframe tbody tr th:only-of-type {\n",
       "        vertical-align: middle;\n",
       "    }\n",
       "\n",
       "    .dataframe tbody tr th {\n",
       "        vertical-align: top;\n",
       "    }\n",
       "\n",
       "    .dataframe thead th {\n",
       "        text-align: right;\n",
       "    }\n",
       "</style>\n",
       "<table border=\"1\" class=\"dataframe\">\n",
       "  <thead>\n",
       "    <tr style=\"text-align: right;\">\n",
       "      <th></th>\n",
       "      <th>id</th>\n",
       "      <th>cluster</th>\n",
       "    </tr>\n",
       "  </thead>\n",
       "  <tbody>\n",
       "    <tr>\n",
       "      <th>0</th>\n",
       "      <td>uid-1</td>\n",
       "      <td>0</td>\n",
       "    </tr>\n",
       "    <tr>\n",
       "      <th>1</th>\n",
       "      <td>uid-2</td>\n",
       "      <td>0</td>\n",
       "    </tr>\n",
       "    <tr>\n",
       "      <th>2</th>\n",
       "      <td>uid-3</td>\n",
       "      <td>0</td>\n",
       "    </tr>\n",
       "    <tr>\n",
       "      <th>3</th>\n",
       "      <td>uid-4</td>\n",
       "      <td>0</td>\n",
       "    </tr>\n",
       "    <tr>\n",
       "      <th>4</th>\n",
       "      <td>uid-5</td>\n",
       "      <td>0</td>\n",
       "    </tr>\n",
       "  </tbody>\n",
       "</table>\n",
       "</div>"
      ],
      "text/plain": [
       "      id  cluster\n",
       "0  uid-1        0\n",
       "1  uid-2        0\n",
       "2  uid-3        0\n",
       "3  uid-4        0\n",
       "4  uid-5        0"
      ]
     },
     "execution_count": 15,
     "metadata": {},
     "output_type": "execute_result"
    }
   ],
   "source": [
    "s=pd.DataFrame({'id':data.id,'cluster':p})\n",
    "s.head()"
   ]
  },
  {
   "cell_type": "code",
   "execution_count": null,
   "metadata": {
    "_uuid": "e9e763fb2779fca0fcb503094168d7bd7bfcdeab",
    "collapsed": true
   },
   "outputs": [],
   "source": [
    "s.to_csv('c6.csv',index=False)\n",
    "np.savetxt(\"arrayPCAc6.txt\",pca_feat)"
   ]
  }
 ],
 "metadata": {
  "kernelspec": {
   "display_name": "Python 3",
   "language": "python",
   "name": "python3"
  },
  "language_info": {
   "codemirror_mode": {
    "name": "ipython",
    "version": 3
   },
   "file_extension": ".py",
   "mimetype": "text/x-python",
   "name": "python",
   "nbconvert_exporter": "python",
   "pygments_lexer": "ipython3",
   "version": "3.6.0"
  }
 },
 "nbformat": 4,
 "nbformat_minor": 1
}
